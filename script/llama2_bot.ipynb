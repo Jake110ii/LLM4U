{
 "cells": [
  {
   "cell_type": "code",
   "execution_count": 11,
   "id": "e30a7a51",
   "metadata": {},
   "outputs": [],
   "source": [
    "from langchain_community.document_loaders import WebBaseLoader\n",
    "from langchain_community.document_loaders import DirectoryLoader\n",
    "from langchain_community.embeddings import OllamaEmbeddings\n",
    "from langchain_community.vectorstores import FAISS\n",
    "from langchain_text_splitters import RecursiveCharacterTextSplitter\n",
    "from langchain.chains.combine_documents import create_stuff_documents_chain\n",
    "from langchain.chains import create_retrieval_chain\n",
    "from langchain_core.prompts import ChatPromptTemplate\n",
    "from langchain_community.llms import Ollama\n",
    "import pickle"
   ]
  },
  {
   "cell_type": "code",
   "execution_count": 7,
   "id": "b641ade5",
   "metadata": {},
   "outputs": [],
   "source": [
    "llm = Ollama(model=\"llama2\")"
   ]
  },
  {
   "cell_type": "code",
   "execution_count": 8,
   "id": "4904769d",
   "metadata": {},
   "outputs": [
    {
     "name": "stdout",
     "output_type": "stream",
     "text": [
      "\n",
      "Shohei Ohtani is a Japanese professional baseball player who currently plays as a pitcher and designated hitter for the Los Angeles Angels in Major League Baseball (MLB). He was born on July 5, 1994, in Tokyo, Japan, and began his professional career with the Nippon Professional Baseball (NPB) team Hanshin Tigers in 2011.\n",
      "\n",
      "Ohtani quickly gained attention for his exceptional talent on both the mound and at the plate, earning him the nickname \"The Japanese Babe Ruth.\" In 2018, he made history by becoming the first player to pitch and hit in a MLB game since 1937, and has continued to impress with his versatility and skill ever since.\n",
      "\n",
      "Some of Ohtani's notable achievements include:\n",
      "\n",
      "* 2-time NPB MVP (2016, 2018)\n",
      "* 4-time NPB All-Star (2013, 2015, 2017, 2018)\n",
      "* MLB All-Star (2018)\n",
      "* MLB Home Run Derby champion (2018)\n",
      "* MLB Pitcher of the Month (April 2018)\n",
      "* MLB Rookie of the Year (2018)\n",
      "\n",
      "Ohtani's unique ability to excel as both a pitcher and hitter has made him one of the most exciting players in baseball today, and he is widely regarded as one of the best young players in the game.\n",
      "CPU times: user 68.7 ms, sys: 12.2 ms, total: 80.9 ms\n",
      "Wall time: 5.18 s\n"
     ]
    }
   ],
   "source": [
    "%%time\n",
    "# Not RAG\n",
    "# response = llm.invoke(\"how can langsmith help with testing?\")\n",
    "response = llm.invoke(\"Who is Shohei Ohtani?\")\n",
    "print(response)"
   ]
  },
  {
   "cell_type": "code",
   "execution_count": 15,
   "id": "d96d1797",
   "metadata": {},
   "outputs": [
    {
     "name": "stdout",
     "output_type": "stream",
     "text": [
      "CPU times: user 794 ms, sys: 51.4 ms, total: 845 ms\n",
      "Wall time: 1.46 s\n"
     ]
    }
   ],
   "source": [
    "%%time\n",
    "# faiss data load\n",
    "loader = WebBaseLoader(\"https://docs.smith.langchain.com/user_guide\")\n",
    "loader = WebBaseLoader(\"https://en.wikipedia.org/wiki/Shohei_Ohtani\")\n",
    "docs = loader.load()\n",
    "embeddings = OllamaEmbeddings()"
   ]
  },
  {
   "cell_type": "code",
   "execution_count": 16,
   "id": "22adf1df",
   "metadata": {},
   "outputs": [
    {
     "name": "stdout",
     "output_type": "stream",
     "text": [
      "CPU times: user 334 ms, sys: 9.49 ms, total: 343 ms\n",
      "Wall time: 52.7 s\n"
     ]
    }
   ],
   "source": [
    "%%time\n",
    "# faiss create vector database\n",
    "text_splitter = RecursiveCharacterTextSplitter()\n",
    "documents = text_splitter.split_documents(docs)\n",
    "vector = FAISS.from_documents(documents, embeddings)"
   ]
  },
  {
   "cell_type": "code",
   "execution_count": 26,
   "id": "678b8276",
   "metadata": {},
   "outputs": [
    {
     "name": "stdout",
     "output_type": "stream",
     "text": [
      "CPU times: user 2.01 ms, sys: 3.26 ms, total: 5.27 ms\n",
      "Wall time: 2.81 ms\n"
     ]
    }
   ],
   "source": [
    "# %%time\n",
    "# import faiss\n",
    "# # faiss write and read database\n",
    "# faiss.write_index(vector.index,\"./faiss_database/vector.index\")  # save the index to disk\n",
    "# index = faiss.read_index(\"./faiss_database/vector.index\")  # load the index"
   ]
  },
  {
   "cell_type": "code",
   "execution_count": 33,
   "id": "45306754",
   "metadata": {},
   "outputs": [],
   "source": [
    "# faiss write\n",
    "index = vector.index\n",
    "with open('./faiss_database/data_and_index.db', 'wb') as f:\n",
    "    pickle.dump((vector, index), f)"
   ]
  },
  {
   "cell_type": "code",
   "execution_count": 12,
   "id": "02157c23",
   "metadata": {},
   "outputs": [],
   "source": [
    "# faiss read\n",
    "with open('./faiss_database/data_and_index.db', 'rb') as f:\n",
    "    vector, index = pickle.load(f)"
   ]
  },
  {
   "cell_type": "code",
   "execution_count": 17,
   "id": "72e00cdd",
   "metadata": {},
   "outputs": [
    {
     "name": "stdout",
     "output_type": "stream",
     "text": [
      "###  0\n",
      "vteSporting News MLB Player of the Year Award\n",
      "1936: Hubbell\n",
      "1937: Allen\n",
      "1938: Vander Meer\n",
      "1939: DiMaggio\n",
      "1940: Feller\n",
      "1941: T. Williams\n",
      "1942: T. Williams\n",
      "1943: Chandler\n",
      "1944: Marion\n",
      "1945: Newhouser\n",
      "1946: Musial\n",
      "1947: T. Williams\n",
      "1948: Boudreau\n",
      "1949: T. Williams\n",
      "1950: Rizzuto\n",
      "1951: Musial\n",
      "1952: Roberts\n",
      "1953: Rosen\n",
      "1954: Mays\n",
      "1955: Snider\n",
      "1956: Mantle\n",
      "1957: T. Williams\n",
      "1958: Turley\n",
      "1959: Wynn\n",
      "1960: Mazeroski\n",
      "1961: Maris\n",
      "1962: Wills & Drysdale\n",
      "1963: Koufax\n",
      "1964: Boyer\n",
      "1965: Koufax\n",
      "1966: Robinson\n",
      "1967: Yastrzemski\n",
      "1968: McLain\n",
      "1969: McCovey\n",
      "1970: Bench\n",
      "1971: Torre\n",
      "1972: B. Williams\n",
      "1973: Jackson\n",
      "1974: Brock\n",
      "1975: Morgan\n",
      "1976: Morgan\n",
      "1977: Carew\n",
      "1978: Guidry\n",
      "1979: Stargell\n",
      "1980: Brett\n",
      "1981: Valenzuela\n",
      "1982: Yount\n",
      "1983: Ripken Jr.\n",
      "1984: Sandberg\n",
      "1985: Mattingly\n",
      "1986: Clemens\n",
      "1987: Bell\n",
      "1988: Hershiser\n",
      "1989: Mitchell\n",
      "1990: Bonds\n",
      "1991: Ripken Jr.\n",
      "1992: Sheffield\n",
      "1993: Thomas\n",
      "1994: Bagwell\n",
      "1995: Belle\n",
      "1996: Rodriguez\n",
      "1997: Griffey Jr.\n",
      "1998: Sosa\n",
      "1999: Palmeiro\n",
      "2000: Delgado\n",
      "2001: Bonds\n",
      "2002: Rodriguez\n",
      "2003: Pujols\n",
      "2004: Bonds\n",
      "2005: Jones\n",
      "2006: Howard\n",
      "2007: Rodriguez\n",
      "2008: Pujols\n",
      "2009: Pujols\n",
      "2010: Hamilton\n",
      "2011: Verlander\n",
      "2012: Cabrera\n",
      "2013: Cabrera\n",
      "2014: Kershaw\n",
      "2015: Donaldson\n",
      "2016: Altuve\n",
      "2017: Altuve\n",
      "2018: Betts\n",
      "2019: Trout\n",
      "2020: Abreu\n",
      "2021: Ohtani\n",
      "2022: Judge\n",
      "2023: Acuña Jr.\n",
      "###  1\n",
      "Endorsements[edit]\n",
      "As of March 2023[update], Ohtani endorsement earnings were estimated to be a MLB league-leading $35–40 million for the 2023 year, up from his MLB league-leading $20 million endorsement earnings in 2022, which tripled from his MLB league-leading $6 million endorsement earnings in 2021.[202][203] Ohtani has proven to be a marketing hit on both sides of the Pacific, with a group of 13 partnerships that includes New Balance, Fanatics, Topps[204] and Panini[204] in the U.S. and Hugo Boss, Kosé, Porsche Japan, Kowa, Mitsubishi Bank, Japan Airlines, Salesforce, Nishikawa Co., and Seiko Watch in Japan.[205]\n",
      "In 2023, Ohtani added two new deals with New Balance[206]  and Japanese cosmetics company Kosé.[207] Ohtani signed a multi-year footwear and apparel endorsement deal with New Balance and wears their gear on the field. Ohtani had previously worn exclusive Asics gear on the field, before making the transition to New Balance,[206] while Kosé announced Ohtani would appear in campaigns throughout the US during the 2023 baseball season promoting skincare products such as lotion and sun care from its brands Decorté and Sekkisei, as the new global ambassador for the company.[207]\n",
      "In 2022, Ohtani became a brand ambassador for Kowa, Mitsubishi Bank, Japan Airlines, Salesforce,[205] and Porsche Japan as part of their 'Porsche Driving Athlete' family.[208]\n",
      "Ohtani is the cover athlete of MLB The Show 22[209] and is the first Asian player to be featured as the cover star of the US edition of MLB: The Show.[210] On February 9, 2022, Ohtani appeared in the Nintendo Direct to promote MLB The Show 22, as it was the first installment in the franchise to appear on a Nintendo console. In the direct, two versions of Ohtani, one in hitting gear, the other in pitching gear, stood side by side holding devices. The use of Ohtani to promote it was seen as tied to his Japanese nationality, as Nintendo is based in Japan.[211]\n",
      "On July 20, 2021, Ohtani signed an exclusive multiyear memorabilia deal with Fanatics.[212]\n",
      "Ohtani's previous partnerships included Asics, Descente, Oakley, New Era, FTX, Savas, and Aquarius.[213] On November 16, 2021, it was announced that Ohtani joined cryptocurrency exchange FTX as a global ambassador,[214] partnering on various animal charitable initiatives;[215] however, in November 2022, FTX filed for bankruptcy, wiping out billions of dollars in customer funds. Ohtani, alongside other spokespeople, is currently being sued for promoting unregistered securities through a class-action lawsuit[216][217] with the athlete's lawyers filing for Ohtani's dismissal from the FTX lawsuit in April 2023.[218]\n",
      "\n",
      "See also[edit]\n",
      "\n",
      "Japan portalBaseball portal\n",
      "\n",
      "List of Major League Baseball annual home run leaders\n",
      "List of Major League Baseball annual triples leaders\n",
      "List of Major League Baseball players from Japan\n",
      "Major League Baseball Player of the Week Award\n",
      "Major League Baseball Rookie of the Month Award\n",
      "Major League Baseball Rookie of the Year Award\n",
      "Sporting News Rookie of the Year Award\n",
      "List of Major League Baseball players to hit for the cycle\n",
      "List of Major League Baseball players from Japan\n",
      "All MLB Team\n",
      "\n",
      "\n",
      "References[edit]\n",
      "\n",
      "\n",
      "^ \"Shohei Otani named WBSC player of the year for 2015\". The Japan Times. October 16, 2017. Archived from the original on December 8, 2020. Retrieved July 6, 2021.\n",
      "\n",
      "^ a b 木下大輔 (April 11, 2018). \"日本ハム中田３号 俺が元祖「ＳＨＯ ＴＩＭＥ」だ\". 日刊スポーツ (in Japanese). Archived from the original on June 2, 2022. Retrieved September 6, 2019.\n",
      "\n",
      "^ \"Shohei Ohtani is the Greatest Baseball Player of All Time\". March 24, 2023. Archived from the original on March 24, 2023. Retrieved March 24, 2023.\n",
      "\n",
      "^ \"Angels News: Is Shohei Ohtani Having the Greatest Single Season Ever?\". Los Angeles Angels. September 30, 2022. Archived from the original on March 24, 2023. Retrieved March 24, 2023.\n",
      "###  2\n",
      "Hokkaido Nippon-Ham Fighters[edit]\n",
      "Rookie year (2013)[edit]\n",
      "Ohtani made his debut at age 18 in the Fighters' season-opening game on March 29, 2013, playing as a right fielder.[32] He was selected for a Pacific League roster spot for the 2013 All-star game. As a pitcher, he finished the season with a 3–0 record in 11 starts. As a rookie Ohtani was used in both the outfield (leading the Fighters with 51 games in right) and as a pitcher.[33] He was the second Nippon Pro Baseball rookie drafted out of high school the previous year to be used as both a pitcher and position player, following Kikuo Tokunaga in 1951; Ohtani was the first to start in both roles. He was the first NPB pitcher since Takao Kajimoto in 1963 to bat 3rd, 4th, or 5th and the first rookie hurler to do so since Junzo Sekine in 1950. He was the second player, following Osamu Takechi (also 1950), to start a game as a pitcher, bat in the heart of the order (3rd through 5th), and get a hit and a run batted in (RBI) in that game. He missed time during the year with a right ankle sprain and right cheekbone fracture.\n",
      "For the season, he was 3–0 with a 4.23 ERA, 33 walks, and 46 strikeouts in 61+2⁄3 innings. and hit .238/.284/.376 in 204 plate appearances.[2] He had seven outfield assists to one error. His 8 hit batsmen tied Manabu Mima, Tadashi Settsu, Hideaki Wakui and Ryoma Nogami for 5th in the 2013 Pacific League. Ohtani received 4 of the 233 votes for the 2013 Nippon Professional Baseball Rookie of the Year Award (Pacific League), tying Tatsuya Sato for a distant second behind Takahiro Norimoto.[34] During his five-year tenure with the Fighters, Ohtani opted to live in the team's provided dormitories, while his parents oversaw his finances.[18]\n",
      "###  3\n",
      "^ \"Angels News: Is Shohei Ohtani Having the Greatest Single Season Ever?\". Los Angeles Angels. September 30, 2022. Archived from the original on March 24, 2023. Retrieved March 24, 2023.\n",
      "\n",
      "^ \"Babe Ruth vs. Shohei Ohtani: Key stats to know in debate over MLB's best two-way player ever\". March 29, 2023. Archived from the original on June 24, 2023. Retrieved June 24, 2023.\n",
      "\n",
      "^ Verducci, Tom (July 5, 2021). \"Shohei Ohtani Isn't Babe Ruth—He's Better\". Sports Illustrated. Archived from the original on June 24, 2023. Retrieved August 29, 2023.\n",
      "\n",
      "^ \"Only One Player Has Ever Been As Good As Shohei Ohtani\". June 30, 2021. Archived from the original on June 4, 2023. Retrieved July 1, 2023.\n",
      "\n",
      "^ a b c d Castrovince, Anthony (October 26, 2021). \"Ohtani wins Historic Achievement Award\". Major League Baseball. Archived from the original on October 27, 2021. Retrieved October 26, 2021.\n",
      "\n",
      "^ a b Bollinger, Rhett (October 5, 2022). \"Ohtani makes history again, becoming 1st player to do this\". Major League Baseball. Archived from the original on October 6, 2022. Retrieved October 6, 2022.\n",
      "\n",
      "^ Bollinger, Rhett (August 9, 2023). \"Ohtani throws more zeros, makes more history\". Major League Baseball. Archived from the original on October 6, 2023. Retrieved October 4, 2023.\n",
      "\n",
      "^ a b \"Ohtani becomes first Japanese MLB home-run champion\". The Japan Times. October 2, 2023. Archived from the original on October 3, 2023. Retrieved October 2, 2023.\n",
      "\n",
      "^ a b \"Shohei Ohtani first player to win MVP by unanimous vote twice\". Los Angeles Times. November 16, 2023. Archived from the original on November 17, 2023. Retrieved November 17, 2023.\n",
      "\n",
      "^ Bollinger, Rhett (September 29, 2023). \"Another 1st for Ohtani: Most popular MLB jersey in '23\". Major League Baseball. Archived from the original on October 6, 2023. Retrieved October 5, 2023.\n",
      "\n",
      "^ a b Wexler, Sarah (December 11, 2023). \"$700M stunner: Ohtani to Dodgers on biggest deal in sports history\". Major League Baseball. Archived from the original on December 12, 2023. Retrieved December 11, 2023.\n",
      "\n",
      "^ \"USA-Japan WBC Title Game Could Be the Most-Watched Baseball Game in History\". March 21, 2023. Archived from the original on May 30, 2023. Retrieved July 1, 2023.\n",
      "\n",
      "^ \"Japan tops Team USA in dramatic finish to claim 3rd Classic title\". Major League Baseball. March 21, 2023. Archived from the original on March 22, 2023. Retrieved July 1, 2023.\n",
      "\n",
      "^ a b c d \"Father of baseball star Ohtani coached son with life tips in 'very ordinary' upbringing\". Mainichi Daily News. December 11, 2017. Archived from the original on October 7, 2021. Retrieved October 7, 2021.\n",
      "\n",
      "^ a b c d e f g Hernández, Dylan (September 29, 2017). \"Column: Japanese baseball star Shohei Ohtani could be double threat in big leagues\". Los Angeles Times. Archived from the original on January 18, 2021. Retrieved October 7, 2021.\n",
      "\n",
      "^ a b c \"大谷、年俸１億円！松坂以来史上２人目の高卒３年目\"大台\"\". Sponichi Annex. December 5, 2014. Archived from the original on December 11, 2014. Retrieved December 5, 2014.\n",
      "\n",
      "^ Hernandez, Dylan (September 29, 2017). \"Japanese baseball star Shohei Ohtani could be double threat in big leagues\". Los Angeles Times. Archived from the original on January 18, 2021. Retrieved October 10, 2017.\n",
      "\n",
      "^ Hernández, Dylan (December 12, 2017). \"Column: The next Shohei Ohtani is already waiting in the wings\". Los Angeles Times. Archived from the original on October 7, 2021. Retrieved October 7, 2021.\n",
      "\n",
      "^ Verducci, Tom (September 14, 2021). \"The Ohtani Rules\". Sports Illustrated. Archived from the original on October 5, 2021. Retrieved October 5, 2021.\n",
      "\n",
      "^ Hernández, Dylan (April 27, 2021). \"Column: Shohei Ohtani's Ruthian two-way journey began in Japan, accelerated under Joe Maddon\". Los Angeles Times. Archived from the original on October 7, 2021. Retrieved October 7, 2021.\n",
      "\n",
      "^ Adler, David (March 19, 2023). \"'It's as if he's throwing his soul': Get to know Japanese ace Roki Sasaki\". Major League Baseball. Archived from the original on October 19, 2023. Retrieved October 17, 2023.\n"
     ]
    }
   ],
   "source": [
    "# HM\n",
    "# # Set your query here manually\n",
    "context = \"\"\n",
    "question = \"Who is Shohei Otani?\"\n",
    "matched_docs = vector.similarity_search(question, 4)\n",
    "for i, doc in enumerate(matched_docs):\n",
    "    context = context + doc.page_content + \" \\n\\n \"\n",
    "    print(\"### \", i)\n",
    "    print(doc.page_content)"
   ]
  },
  {
   "cell_type": "code",
   "execution_count": 30,
   "id": "5d9b827d",
   "metadata": {},
   "outputs": [
    {
     "data": {
      "text/plain": [
       "'vteSporting News MLB Player of the Year Award\\n1936: Hubbell\\n1937: Allen\\n1938: Vander Meer\\n1939: DiMaggio\\n1940: Feller\\n1941: T. Williams\\n1942: T. Williams\\n1943: Chandler\\n1944: Marion\\n1945: Newhouser\\n1946: Musial\\n1947: T. Williams\\n1948: Boudreau\\n1949: T. Williams\\n1950: Rizzuto\\n1951: Musial\\n1952: Roberts\\n1953: Rosen\\n1954: Mays\\n1955: Snider\\n1956: Mantle\\n1957: T. Williams\\n1958: Turley\\n1959: Wynn\\n1960: Mazeroski\\n1961: Maris\\n1962: Wills & Drysdale\\n1963: Koufax\\n1964: Boyer\\n1965: Koufax\\n1966: Robinson\\n1967: Yastrzemski\\n1968: McLain\\n1969: McCovey\\n1970: Bench\\n1971: Torre\\n1972: B. Williams\\n1973: Jackson\\n1974: Brock\\n1975: Morgan\\n1976: Morgan\\n1977: Carew\\n1978: Guidry\\n1979: Stargell\\n1980: Brett\\n1981: Valenzuela\\n1982: Yount\\n1983: Ripken Jr.\\n1984: Sandberg\\n1985: Mattingly\\n1986: Clemens\\n1987: Bell\\n1988: Hershiser\\n1989: Mitchell\\n1990: Bonds\\n1991: Ripken Jr.\\n1992: Sheffield\\n1993: Thomas\\n1994: Bagwell\\n1995: Belle\\n1996: Rodriguez\\n1997: Griffey Jr.\\n1998: Sosa\\n1999: Palmeiro\\n2000: Delgado\\n2001: Bonds\\n2002: Rodriguez\\n2003: Pujols\\n2004: Bonds\\n2005: Jones\\n2006: Howard\\n2007: Rodriguez\\n2008: Pujols\\n2009: Pujols\\n2010: Hamilton\\n2011: Verlander\\n2012: Cabrera\\n2013: Cabrera\\n2014: Kershaw\\n2015: Donaldson\\n2016: Altuve\\n2017: Altuve\\n2018: Betts\\n2019: Trout\\n2020: Abreu\\n2021: Ohtani\\n2022: Judge\\n2023: Acuña Jr. \\n\\n Endorsements[edit]\\nAs of March 2023[update], Ohtani endorsement earnings were estimated to be a MLB league-leading $35–40 million for the 2023 year, up from his MLB league-leading $20 million endorsement earnings in 2022, which tripled from his MLB league-leading $6 million endorsement earnings in 2021.[202][203] Ohtani has proven to be a marketing hit on both sides of the Pacific, with a group of 13 partnerships that includes New Balance, Fanatics, Topps[204] and Panini[204] in the U.S. and Hugo Boss, Kosé, Porsche Japan, Kowa, Mitsubishi Bank, Japan Airlines, Salesforce, Nishikawa Co., and Seiko Watch in Japan.[205]\\nIn 2023, Ohtani added two new deals with New Balance[206]  and Japanese cosmetics company Kosé.[207] Ohtani signed a multi-year footwear and apparel endorsement deal with New Balance and wears their gear on the field. Ohtani had previously worn exclusive Asics gear on the field, before making the transition to New Balance,[206] while Kosé announced Ohtani would appear in campaigns throughout the US during the 2023 baseball season promoting skincare products such as lotion and sun care from its brands Decorté and Sekkisei, as the new global ambassador for the company.[207]\\nIn 2022, Ohtani became a brand ambassador for Kowa, Mitsubishi Bank, Japan Airlines, Salesforce,[205] and Porsche Japan as part of their \\'Porsche Driving Athlete\\' family.[208]\\nOhtani is the cover athlete of MLB The Show 22[209] and is the first Asian player to be featured as the cover star of the US edition of MLB: The Show.[210] On February 9, 2022, Ohtani appeared in the Nintendo Direct to promote MLB The Show 22, as it was the first installment in the franchise to appear on a Nintendo console. In the direct, two versions of Ohtani, one in hitting gear, the other in pitching gear, stood side by side holding devices. The use of Ohtani to promote it was seen as tied to his Japanese nationality, as Nintendo is based in Japan.[211]\\nOn July 20, 2021, Ohtani signed an exclusive multiyear memorabilia deal with Fanatics.[212]\\nOhtani\\'s previous partnerships included Asics, Descente, Oakley, New Era, FTX, Savas, and Aquarius.[213] On November 16, 2021, it was announced that Ohtani joined cryptocurrency exchange FTX as a global ambassador,[214] partnering on various animal charitable initiatives;[215] however, in November 2022, FTX filed for bankruptcy, wiping out billions of dollars in customer funds. Ohtani, alongside other spokespeople, is currently being sued for promoting unregistered securities through a class-action lawsuit[216][217] with the athlete\\'s lawyers filing for Ohtani\\'s dismissal from the FTX lawsuit in April 2023.[218]\\n\\nSee also[edit]\\n\\nJapan portalBaseball portal\\n\\nList of Major League Baseball annual home run leaders\\nList of Major League Baseball annual triples leaders\\nList of Major League Baseball players from Japan\\nMajor League Baseball Player of the Week Award\\nMajor League Baseball Rookie of the Month Award\\nMajor League Baseball Rookie of the Year Award\\nSporting News Rookie of the Year Award\\nList of Major League Baseball players to hit for the cycle\\nList of Major League Baseball players from Japan\\nAll MLB Team\\n\\n\\nReferences[edit]\\n\\n\\n^ \"Shohei Otani named WBSC player of the year for 2015\". The Japan Times. October 16, 2017. Archived from the original on December 8, 2020. Retrieved July 6, 2021.\\n\\n^ a b 木下大輔 (April 11, 2018). \"日本ハム中田３号 俺が元祖「ＳＨＯ ＴＩＭＥ」だ\". 日刊スポーツ (in Japanese). Archived from the original on June 2, 2022. Retrieved September 6, 2019.\\n\\n^ \"Shohei Ohtani is the Greatest Baseball Player of All Time\". March 24, 2023. Archived from the original on March 24, 2023. Retrieved March 24, 2023.\\n\\n^ \"Angels News: Is Shohei Ohtani Having the Greatest Single Season Ever?\". Los Angeles Angels. September 30, 2022. Archived from the original on March 24, 2023. Retrieved March 24, 2023. \\n\\n Hokkaido Nippon-Ham Fighters[edit]\\nRookie year (2013)[edit]\\nOhtani made his debut at age 18 in the Fighters\\' season-opening game on March 29, 2013, playing as a right fielder.[32] He was selected for a Pacific League roster spot for the 2013 All-star game. As a pitcher, he finished the season with a 3–0 record in 11 starts. As a rookie Ohtani was used in both the outfield (leading the Fighters with 51 games in right) and as a pitcher.[33] He was the second Nippon Pro Baseball rookie drafted out of high school the previous year to be used as both a pitcher and position player, following Kikuo Tokunaga in 1951; Ohtani was the first to start in both roles. He was the first NPB pitcher since Takao Kajimoto in 1963 to bat 3rd, 4th, or 5th and the first rookie hurler to do so since Junzo Sekine in 1950. He was the second player, following Osamu Takechi (also 1950), to start a game as a pitcher, bat in the heart of the order (3rd through 5th), and get a hit and a run batted in (RBI) in that game. He missed time during the year with a right ankle sprain and right cheekbone fracture.\\nFor the season, he was 3–0 with a 4.23 ERA, 33 walks, and 46 strikeouts in 61+2⁄3 innings. and hit .238/.284/.376 in 204 plate appearances.[2] He had seven outfield assists to one error. His 8 hit batsmen tied Manabu Mima, Tadashi Settsu, Hideaki Wakui and Ryoma Nogami for 5th in the 2013 Pacific League. Ohtani received 4 of the 233 votes for the 2013 Nippon Professional Baseball Rookie of the Year Award (Pacific League), tying Tatsuya Sato for a distant second behind Takahiro Norimoto.[34] During his five-year tenure with the Fighters, Ohtani opted to live in the team\\'s provided dormitories, while his parents oversaw his finances.[18] \\n\\n ^ \"Angels News: Is Shohei Ohtani Having the Greatest Single Season Ever?\". Los Angeles Angels. September 30, 2022. Archived from the original on March 24, 2023. Retrieved March 24, 2023.\\n\\n^ \"Babe Ruth vs. Shohei Ohtani: Key stats to know in debate over MLB\\'s best two-way player ever\". March 29, 2023. Archived from the original on June 24, 2023. Retrieved June 24, 2023.\\n\\n^ Verducci, Tom (July 5, 2021). \"Shohei Ohtani Isn\\'t Babe Ruth—He\\'s Better\". Sports Illustrated. Archived from the original on June 24, 2023. Retrieved August 29, 2023.\\n\\n^ \"Only One Player Has Ever Been As Good As Shohei Ohtani\". June 30, 2021. Archived from the original on June 4, 2023. Retrieved July 1, 2023.\\n\\n^ a b c d Castrovince, Anthony (October 26, 2021). \"Ohtani wins Historic Achievement Award\". Major League Baseball. Archived from the original on October 27, 2021. Retrieved October 26, 2021.\\n\\n^ a b Bollinger, Rhett (October 5, 2022). \"Ohtani makes history again, becoming 1st player to do this\". Major League Baseball. Archived from the original on October 6, 2022. Retrieved October 6, 2022.\\n\\n^ Bollinger, Rhett (August 9, 2023). \"Ohtani throws more zeros, makes more history\". Major League Baseball. Archived from the original on October 6, 2023. Retrieved October 4, 2023.\\n\\n^ a b \"Ohtani becomes first Japanese MLB home-run champion\". The Japan Times. October 2, 2023. Archived from the original on October 3, 2023. Retrieved October 2, 2023.\\n\\n^ a b \"Shohei Ohtani first player to win MVP by unanimous vote twice\". Los Angeles Times. November 16, 2023. Archived from the original on November 17, 2023. Retrieved November 17, 2023.\\n\\n^ Bollinger, Rhett (September 29, 2023). \"Another 1st for Ohtani: Most popular MLB jersey in \\'23\". Major League Baseball. Archived from the original on October 6, 2023. Retrieved October 5, 2023.\\n\\n^ a b Wexler, Sarah (December 11, 2023). \"$700M stunner: Ohtani to Dodgers on biggest deal in sports history\". Major League Baseball. Archived from the original on December 12, 2023. Retrieved December 11, 2023.\\n\\n^ \"USA-Japan WBC Title Game Could Be the Most-Watched Baseball Game in History\". March 21, 2023. Archived from the original on May 30, 2023. Retrieved July 1, 2023.\\n\\n^ \"Japan tops Team USA in dramatic finish to claim 3rd Classic title\". Major League Baseball. March 21, 2023. Archived from the original on March 22, 2023. Retrieved July 1, 2023.\\n\\n^ a b c d \"Father of baseball star Ohtani coached son with life tips in \\'very ordinary\\' upbringing\". Mainichi Daily News. December 11, 2017. Archived from the original on October 7, 2021. Retrieved October 7, 2021.\\n\\n^ a b c d e f g Hernández, Dylan (September 29, 2017). \"Column: Japanese baseball star Shohei Ohtani could be double threat in big leagues\". Los Angeles Times. Archived from the original on January 18, 2021. Retrieved October 7, 2021.\\n\\n^ a b c \"大谷、年俸１億円！松坂以来史上２人目の高卒３年目\"大台\"\". Sponichi Annex. December 5, 2014. Archived from the original on December 11, 2014. Retrieved December 5, 2014.\\n\\n^ Hernandez, Dylan (September 29, 2017). \"Japanese baseball star Shohei Ohtani could be double threat in big leagues\". Los Angeles Times. Archived from the original on January 18, 2021. Retrieved October 10, 2017.\\n\\n^ Hernández, Dylan (December 12, 2017). \"Column: The next Shohei Ohtani is already waiting in the wings\". Los Angeles Times. Archived from the original on October 7, 2021. Retrieved October 7, 2021.\\n\\n^ Verducci, Tom (September 14, 2021). \"The Ohtani Rules\". Sports Illustrated. Archived from the original on October 5, 2021. Retrieved October 5, 2021.\\n\\n^ Hernández, Dylan (April 27, 2021). \"Column: Shohei Ohtani\\'s Ruthian two-way journey began in Japan, accelerated under Joe Maddon\". Los Angeles Times. Archived from the original on October 7, 2021. Retrieved October 7, 2021.\\n\\n^ Adler, David (March 19, 2023). \"\\'It\\'s as if he\\'s throwing his soul\\': Get to know Japanese ace Roki Sasaki\". Major League Baseball. Archived from the original on October 19, 2023. Retrieved October 17, 2023. \\n\\n '"
      ]
     },
     "execution_count": 30,
     "metadata": {},
     "output_type": "execute_result"
    }
   ],
   "source": [
    "context"
   ]
  },
  {
   "cell_type": "code",
   "execution_count": 18,
   "id": "a270db1d",
   "metadata": {},
   "outputs": [],
   "source": [
    "prompt = ChatPromptTemplate.from_template(\n",
    "    \"\"\"Answer the following question based only on the provided context:\n",
    "\n",
    "    <context>\n",
    "    {context}\n",
    "    </context>\n",
    "\n",
    "    Question: {input}\"\"\")"
   ]
  },
  {
   "cell_type": "code",
   "execution_count": 19,
   "id": "c0c29ab9",
   "metadata": {},
   "outputs": [],
   "source": [
    "document_chain = create_stuff_documents_chain(llm, prompt)"
   ]
  },
  {
   "cell_type": "code",
   "execution_count": 20,
   "id": "7715a0a7",
   "metadata": {},
   "outputs": [],
   "source": [
    "retriever = vector.as_retriever()\n",
    "retrieval_chain = create_retrieval_chain(retriever, document_chain)"
   ]
  },
  {
   "cell_type": "code",
   "execution_count": 23,
   "id": "2f1658b6",
   "metadata": {},
   "outputs": [
    {
     "name": "stdout",
     "output_type": "stream",
     "text": [
      "Shohei Otani is a Japanese professional baseball player who currently plays as a pitcher and outfielder for the Los Angeles Angels in Major League Baseball (MLB). He was born on September 18, 1994, in Okinawa, Japan. Otani is considered one of the most talented baseball players in the world, known for his exceptional pitching and hitting abilities.\n",
      "\n",
      "Otani made his professional debut in 2011 with the Nippon Professional Baseball (NPB) team SoftBank Hawks, where he quickly established himself as a dominant force on the mound and at the plate. In 2016, he became the first Japanese player to win the MLB Rookie of the Year award after being posted by his NPB team and selected by an MLB club.\n",
      "\n",
      "In addition to his impressive stats and awards, Otani has gained international recognition for his unique ability to excel in both pitching and hitting. He is often compared to Babe Ruth, who was also a two-way threat in baseball, for his exceptional talent and dominance on the field.\n",
      "\n",
      "Otani's career achievements include:\n",
      "\n",
      "* 3-time NPB All-Star (2014-2016)\n",
      "* 2-time NPB ERA champion (2015, 2016)\n",
      "* MLB Rookie of the Year (2016)\n",
      "* MLB All-Star (2023)\n",
      "\n",
      "Otani's unique dual role as a pitcher and hitter has led to numerous headlines and interest from fans around the world. He is widely regarded as one of the most exciting and talented players in baseball today, and his achievements and successes continue to make history in the sport.\n"
     ]
    }
   ],
   "source": [
    "# response = retrieval_chain.invoke({\"input\": \"how can langsmith help with testing?\"})\n",
    "response = retrieval_chain.invoke({\"input\": \"Who is Shohei Otani?\"})\n",
    "print(response[\"answer\"])"
   ]
  },
  {
   "cell_type": "code",
   "execution_count": 24,
   "id": "d8313293",
   "metadata": {},
   "outputs": [
    {
     "name": "stdout",
     "output_type": "stream",
     "text": [
      "\n",
      "Shohei Ohtani currently plays for the Los Angeles Dodgers in Major League Baseball (MLB). He signed a multi-year contract with the Dodgers in December 2023, becoming the highest-paid player in baseball history. Prior to joining the Dodgers, Ohtani played for the Seattle Mariners in 2018 and 2019.\n"
     ]
    }
   ],
   "source": [
    "# good\n",
    "response = retrieval_chain.invoke({\"input\": \"What team dose Shohei Otani play now?\"})\n",
    "print(response[\"answer\"])"
   ]
  },
  {
   "cell_type": "code",
   "execution_count": 27,
   "id": "39a95384",
   "metadata": {},
   "outputs": [
    {
     "name": "stdout",
     "output_type": "stream",
     "text": [
      "\n",
      "According to reports, Shohei Ohtani signed a 2-year contract with the Los Angeles Dodgers worth $3.5 million in 2018, with an option for a third year worth $4.5 million. The deal included a $2 million signing bonus and a $500,000 performance bonuses based on his playing time and statistics.\n"
     ]
    }
   ],
   "source": [
    "# no good...\n",
    "response = retrieval_chain.invoke({\"input\": \"What unmber is his contract sallary with Dodgers?\"})\n",
    "print(response[\"answer\"])"
   ]
  },
  {
   "cell_type": "code",
   "execution_count": 29,
   "id": "cff1952d",
   "metadata": {},
   "outputs": [
    {
     "name": "stdout",
     "output_type": "stream",
     "text": [
      "\n",
      "Shohei Ohtani's contract with the Los Angeles Angels is a multi-year deal that was signed in 2018. The details of the contract are as follows:\n",
      "\n",
      "* Years: 2018-2023 (6 years)\n",
      "* Total value: $85 million (approximately 9.7 billion yen)\n",
      "* Base salary: $3 million in 2018, $5 million in 2019, and $6 million in 2020-2023\n",
      "* Bonus structure: Ohtani can earn up to an additional $25 million through performance bonuses based on his individual and team achievements.\n",
      "* Incentives: Ohtani can earn up to $10 million in incentives based on his pitching and hitting performances.\n",
      "\n",
      "It's worth noting that the contract is structured in a unique way, with Ohtani receiving a base salary for his time as a player and also receiving a separate payment for his appearance fees as a pitcher. This allows him to earn more money through his pitching performances while still receiving a fair salary as a player.\n",
      "\n",
      "It's also worth noting that the contract is a significant increase from Ohtani's previous salary with the Nippon Ham Fighters, which was estimated to be around 30 million yen in 2017. The increased salary reflects Ohtani's status as one of the top players in the MLB and his potential to bring in significant revenue for the Angels through merchandise sales and other forms of revenue.\n"
     ]
    }
   ],
   "source": [
    "# no good...\n",
    "response = retrieval_chain.invoke({\"input\": \"Tell me exactly about Shohei Otani's contract with Dodgers?\"})\n",
    "print(response[\"answer\"])"
   ]
  },
  {
   "cell_type": "code",
   "execution_count": null,
   "id": "9e8d69f8",
   "metadata": {},
   "outputs": [],
   "source": []
  }
 ],
 "metadata": {
  "kernelspec": {
   "display_name": "llm4u",
   "language": "python",
   "name": "llm4u"
  },
  "language_info": {
   "codemirror_mode": {
    "name": "ipython",
    "version": 3
   },
   "file_extension": ".py",
   "mimetype": "text/x-python",
   "name": "python",
   "nbconvert_exporter": "python",
   "pygments_lexer": "ipython3",
   "version": "3.11.5"
  },
  "nbTranslate": {
   "displayLangs": [
    "jp",
    "en"
   ],
   "hotkey": "alt-t",
   "langInMainMenu": true,
   "sourceLang": "en",
   "targetLang": "jp",
   "useGoogleTranslate": true
  },
  "toc": {
   "base_numbering": 1,
   "nav_menu": {},
   "number_sections": true,
   "sideBar": true,
   "skip_h1_title": false,
   "title_cell": "Table of Contents",
   "title_sidebar": "Contents",
   "toc_cell": false,
   "toc_position": {},
   "toc_section_display": true,
   "toc_window_display": false
  },
  "varInspector": {
   "cols": {
    "lenName": 16,
    "lenType": 16,
    "lenVar": 40
   },
   "kernels_config": {
    "python": {
     "delete_cmd_postfix": "",
     "delete_cmd_prefix": "del ",
     "library": "var_list.py",
     "varRefreshCmd": "print(var_dic_list())"
    },
    "r": {
     "delete_cmd_postfix": ") ",
     "delete_cmd_prefix": "rm(",
     "library": "var_list.r",
     "varRefreshCmd": "cat(var_dic_list()) "
    }
   },
   "types_to_exclude": [
    "module",
    "function",
    "builtin_function_or_method",
    "instance",
    "_Feature"
   ],
   "window_display": false
  }
 },
 "nbformat": 4,
 "nbformat_minor": 5
}
